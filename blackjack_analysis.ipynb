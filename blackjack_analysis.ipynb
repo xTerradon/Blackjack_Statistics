{
 "cells": [
  {
   "cell_type": "code",
   "execution_count": 2,
   "id": "60d1e5ed-3ff0-44e2-ab6a-b1c9380e6940",
   "metadata": {},
   "outputs": [],
   "source": [
    "import numpy as np\n",
    "rng = np.random.default_rng()\n",
    "\n",
    "import pandas as pd\n",
    "from pandas import DataFrame as df"
   ]
  },
  {
   "cell_type": "code",
   "execution_count": 2,
   "id": "9501702d-a74a-4ec1-a4a5-4c41691513c2",
   "metadata": {},
   "outputs": [],
   "source": [
    "card_names = [\"Ace\",\"2\",\"3\",\"4\",\"5\",\"6\",\"7\",\"8\",\"9\",\"10\",\"Jack\",\"Queen\",\"King\"]"
   ]
  },
  {
   "cell_type": "code",
   "execution_count": 27,
   "id": "80ec5df9-778b-4964-aa3b-4a3231829541",
   "metadata": {},
   "outputs": [],
   "source": [
    "class Deck:\n",
    "    def __init__(self, num_decks=4):\n",
    "        self.initialize_deck(num_decks)\n",
    "        # self.print_deck()\n",
    "    \n",
    "    def initialize_deck(self, num_decks=4):\n",
    "        self.deck = np.tile(np.arange(1,14), num_decks)\n",
    "        rng.shuffle(self.deck)\n",
    "        \n",
    "    def print_deck(self):\n",
    "        cards_distribution = df({\"number\":np.zeros(13, dtype=int)}, index=card_names, dtype=int)\n",
    "        indices, counts = np.unique(self.deck, return_counts=True)\n",
    "        cards_distribution.iloc[indices-1,0] = np.array(counts, dtype=int)\n",
    "        print(cards_distribution)\n",
    "\n",
    "    def draw_random_card_from_deck(self):\n",
    "        if len(self.deck) == 0:\n",
    "            raise ValueError(\"No more cards in deck\")\n",
    "        rand_index = np.random.randint(len(self.deck))\n",
    "        chosen_card = self.deck[rand_index]\n",
    "        self.deck = np.delete(self.deck, rand_index)\n",
    "        return chosen_card\n",
    "    \n",
    "    def get_value_from_card(self, card):\n",
    "        if card == 1:\n",
    "            return 11\n",
    "        return min(card, 10)\n",
    "    \n",
    "    def draw_value(self):\n",
    "        return self.get_value_from_card(self.draw_random_card_from_deck())\n",
    "    \n",
    "    def get_val_distribution(self):\n",
    "        card_distribution = self.get_card_distribution()\n",
    "\n",
    "        val_distribution = np.zeros(12, dtype=int)\n",
    "        val_distribution[1:10] = card_distribution.iloc[1:10].values.squeeze()\n",
    "        val_distribution[10] = card_distribution.iloc[10:].values.sum()\n",
    "        val_distribution[11] = val_distribution[1]\n",
    "        return val_distribution\n",
    "        \n",
    "    \n",
    "    def get_card_distribution(self):\n",
    "        card_distribution = df({\"number\":np.zeros(13, dtype=int)}, index=card_names, dtype=int)\n",
    "        indices, counts = np.unique(self.deck, return_counts=True)\n",
    "        card_distribution.iloc[indices-1,0] = np.array(counts, dtype=int)\n",
    "        return card_distribution\n",
    "    \n"
   ]
  },
  {
   "cell_type": "code",
   "execution_count": 8,
   "id": "b08b0efa",
   "metadata": {},
   "outputs": [
    {
     "name": "stdout",
     "output_type": "stream",
     "text": [
      "   0\n",
      "0  1\n",
      "   0\n",
      "0  1\n",
      "0  1\n"
     ]
    }
   ],
   "source": [
    "df1 = df([1])\n",
    "print(df1)\n",
    "for i in df1:\n",
    "    df1 = df1.append([i+1])\n",
    "    if i>100:\n",
    "        break\n",
    "print(df1)"
   ]
  },
  {
   "cell_type": "code",
   "execution_count": 35,
   "id": "6c4e13fe-643c-4b4f-a870-0934f9882562",
   "metadata": {},
   "outputs": [],
   "source": [
    "class Game:\n",
    "    def __init__(self, num_decks=4):\n",
    "        self.deck = Deck(num_decks)\n",
    "             \n",
    "    def game_dealer(self):\n",
    "        points = 0\n",
    "        aces = 0\n",
    "        \n",
    "        while points <= 16:\n",
    "            val = self.deck.draw_value()\n",
    "            if val == 11:\n",
    "                aces += 1\n",
    "            points += val\n",
    "            \n",
    "            if points > 21 and aces > 0:\n",
    "                points -= 10\n",
    "                aces -= 1\n",
    "        \n",
    "        if points > 21:\n",
    "            score = 0\n",
    "        else:\n",
    "            score = points\n",
    "        \n",
    "        return score\n",
    "    "
   ]
  },
  {
   "cell_type": "code",
   "execution_count": 36,
   "id": "5c5bf366-684d-4abb-9346-ff6d0652d271",
   "metadata": {},
   "outputs": [
    {
     "name": "stdout",
     "output_type": "stream",
     "text": [
      "[ 0 20 20 20 20 20 20 20 20 20 60 20]\n",
      "           0\n",
      "0   0.000000\n",
      "1   0.076923\n",
      "2   0.076923\n",
      "3   0.076923\n",
      "4   0.076923\n",
      "5   0.076923\n",
      "6   0.076923\n",
      "7   0.076923\n",
      "8   0.076923\n",
      "9   0.076923\n",
      "10  0.230769\n",
      "11  0.076923\n",
      "12  0.000000\n",
      "13  0.000000\n",
      "14  0.000000\n",
      "15  0.000000\n",
      "16  0.000000\n",
      "17  0.000000\n",
      "18  0.000000\n",
      "19  0.000000\n",
      "20  0.000000\n",
      "21  0.000000\n",
      "[ 0 20 20 20 20 20 20 20 20 20 60 20]\n"
     ]
    }
   ],
   "source": [
    "g1 = Game(20)\n",
    "g1.get_probabilities_dealer()\n",
    "# g1.deck.print_deck()\n"
   ]
  },
  {
   "cell_type": "code",
   "execution_count": null,
   "id": "0aa93d4e-e013-48a8-b734-48bcac50c554",
   "metadata": {},
   "outputs": [],
   "source": []
  }
 ],
 "metadata": {
  "kernelspec": {
   "display_name": "Python 3.9.13 64-bit (microsoft store)",
   "language": "python",
   "name": "python3"
  },
  "language_info": {
   "codemirror_mode": {
    "name": "ipython",
    "version": 3
   },
   "file_extension": ".py",
   "mimetype": "text/x-python",
   "name": "python",
   "nbconvert_exporter": "python",
   "pygments_lexer": "ipython3",
   "version": "3.9.13"
  },
  "vscode": {
   "interpreter": {
    "hash": "4a379179c055793e132590aa2dc35e31e9d3f9b751f204320a8b7b58c42473d4"
   }
  }
 },
 "nbformat": 4,
 "nbformat_minor": 5
}
