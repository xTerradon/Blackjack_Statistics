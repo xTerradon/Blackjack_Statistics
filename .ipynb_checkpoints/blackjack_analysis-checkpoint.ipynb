{
 "cells": [
  {
   "cell_type": "code",
   "execution_count": 53,
   "id": "60d1e5ed-3ff0-44e2-ab6a-b1c9380e6940",
   "metadata": {},
   "outputs": [],
   "source": [
    "import numpy as np\n",
    "rng = np.random.default_rng()\n",
    "\n",
    "import pandas as pd\n",
    "from pandas import DataFrame as df"
   ]
  },
  {
   "cell_type": "code",
   "execution_count": 77,
   "id": "80ec5df9-778b-4964-aa3b-4a3231829541",
   "metadata": {},
   "outputs": [],
   "source": [
    "class Deck:\n",
    "    def __init__(self, num_decks=4):\n",
    "        self.initialize_deck(num_decks)\n",
    "        self.print_deck()\n",
    "    \n",
    "    def initialize_deck(self, num_decks=4):\n",
    "        self.deck = np.tile(np.arange(1,14), num_decks)\n",
    "        rng.shuffle(self.deck)\n",
    "        \n",
    "    def print_deck(self):\n",
    "        cards_distribution = df({\"number\":np.zeros(13, dtype=int)}, index=[\"Ace\",\"2\",\"3\",\"4\",\"5\",\"6\",\"7\",\"8\",\"9\",\"10\",\"Jack\",\"Queen\",\"King\"], dtype=int)\n",
    "        indices, counts = np.unique(self.deck, return_counts=True)\n",
    "        cards_distribution.iloc[indices-1,0] = np.array(counts, dtype=int)\n",
    "        print(cards_distribution)\n",
    "\n",
    "    def draw_random_card_from_deck(self):\n",
    "        rand_index = np.random.randint(len(self.deck))\n",
    "        chosen_card = self.deck[rand_index]\n",
    "        self.deck = np.delete(self.deck, rand_index)\n",
    "        return rand_index\n",
    "    \n",
    "    def get_value_from_card(card):\n",
    "        if card == 1:\n",
    "            return 11\n",
    "        return min(card, 10)\n",
    "    \n",
    "    def draw_value(self):\n",
    "        return get_value_from_card(self.draw_random_card_from_deck())\n",
    "    \n",
    "    def print_deck(self):\n",
    "        cards_distribution = df({\"number\":np.zeros(13, dtype=int)}, index=[\"Ace\",\"2\",\"3\",\"4\",\"5\",\"6\",\"7\",\"8\",\"9\",\"10\",\"Jack\",\"Queen\",\"King\"], dtype=int)\n",
    "        indices, counts = np.unique(self.deck, return_counts=True)\n",
    "        cards_distribution.iloc[indices-1,0] = np.array(counts, dtype=int)\n",
    "        print(cards_distribution)"
   ]
  },
  {
   "cell_type": "code",
   "execution_count": 79,
   "id": "6c4e13fe-643c-4b4f-a870-0934f9882562",
   "metadata": {},
   "outputs": [],
   "source": [
    "class Game:\n",
    "    def __init__(self):\n",
    "        self.deck = Deck(4)\n",
    "        \n",
    "    def draw_dealer(self):\n",
    "        points = 0\n",
    "        aces = 0\n",
    "        \n",
    "        while points <= 16:\n",
    "            val = self.deck.draw_value()\n",
    "            if val == 1:\n",
    "                aces += 1\n",
    "            \n",
    "        \n",
    "    "
   ]
  },
  {
   "cell_type": "code",
   "execution_count": 78,
   "id": "5c5bf366-684d-4abb-9346-ff6d0652d271",
   "metadata": {},
   "outputs": [
    {
     "name": "stdout",
     "output_type": "stream",
     "text": [
      "       number\n",
      "Ace         6\n",
      "2           6\n",
      "3           6\n",
      "4           6\n",
      "5           6\n",
      "6           6\n",
      "7           6\n",
      "8           6\n",
      "9           6\n",
      "10          6\n",
      "Jack        6\n",
      "Queen       6\n",
      "King        6\n"
     ]
    }
   ],
   "source": [
    "deck1 = Deck(6)"
   ]
  }
 ],
 "metadata": {
  "kernelspec": {
   "display_name": "Python 3 (ipykernel)",
   "language": "python",
   "name": "python3"
  },
  "language_info": {
   "codemirror_mode": {
    "name": "ipython",
    "version": 3
   },
   "file_extension": ".py",
   "mimetype": "text/x-python",
   "name": "python",
   "nbconvert_exporter": "python",
   "pygments_lexer": "ipython3",
   "version": "3.7.13"
  }
 },
 "nbformat": 4,
 "nbformat_minor": 5
}
